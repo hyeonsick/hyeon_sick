{
  "nbformat": 4,
  "nbformat_minor": 0,
  "metadata": {
    "colab": {
      "name": "211019 중간고사 리뷰.ipynb",
      "provenance": [],
      "authorship_tag": "ABX9TyPKMDuV0kd0Q9Z8QHaJ+x86",
      "include_colab_link": true
    },
    "kernelspec": {
      "name": "python3",
      "display_name": "Python 3"
    },
    "language_info": {
      "name": "python"
    }
  },
  "cells": [
    {
      "cell_type": "markdown",
      "metadata": {
        "id": "view-in-github",
        "colab_type": "text"
      },
      "source": [
        "<a href=\"https://colab.research.google.com/github/hyeonsick/hyeon_sick/blob/main/211019_%EC%A4%91%EA%B0%84%EA%B3%A0%EC%82%AC_%EB%A6%AC%EB%B7%B0.ipynb\" target=\"_parent\"><img src=\"https://colab.research.google.com/assets/colab-badge.svg\" alt=\"Open In Colab\"/></a>"
      ]
    },
    {
      "cell_type": "code",
      "metadata": {
        "colab": {
          "base_uri": "https://localhost:8080/",
          "height": 136
        },
        "id": "C7AMogd61Zz0",
        "outputId": "c22f95fd-4409-4cae-e459-1af299018f5a"
      },
      "source": [
        "#1. 파이썬 변수로 사용할 수 없는 것은?\n",
        "_num = 1\n",
        "num = 2\n",
        "num1 = 3\n",
        "# 2num = 4\n",
        "# 변수를 선언할 때 맨 앞에 숫자는 올 수 없다!\n",
        "n_um = 5"
      ],
      "execution_count": 2,
      "outputs": [
        {
          "output_type": "error",
          "ename": "SyntaxError",
          "evalue": "ignored",
          "traceback": [
            "\u001b[0;36m  File \u001b[0;32m\"<ipython-input-2-5ec08176a56e>\"\u001b[0;36m, line \u001b[0;32m9\u001b[0m\n\u001b[0;31m    for = 1\u001b[0m\n\u001b[0m        ^\u001b[0m\n\u001b[0;31mSyntaxError\u001b[0m\u001b[0;31m:\u001b[0m invalid syntax\n"
          ]
        }
      ]
    },
    {
      "cell_type": "code",
      "metadata": {
        "colab": {
          "base_uri": "https://localhost:8080/"
        },
        "id": "2fIEHike2kMB",
        "outputId": "c4d974c0-cc15-4f45-f13f-94682dd473e9"
      },
      "source": [
        "#2. 각 변수에 저장된 최종 값은?\n",
        "sum = 0\n",
        "n1 = 10\n",
        "n1 = n1 +10\n",
        "n2 = 20\n",
        "sum = n1+n2\n",
        "print(n1,n2,sum)"
      ],
      "execution_count": 3,
      "outputs": [
        {
          "output_type": "stream",
          "name": "stdout",
          "text": [
            "20 20 40\n"
          ]
        }
      ]
    },
    {
      "cell_type": "code",
      "metadata": {
        "colab": {
          "base_uri": "https://localhost:8080/"
        },
        "id": "aBcErZ-h3v7Z",
        "outputId": "3cc78986-63b2-4251-d4c0-74d09206a6a2"
      },
      "source": [
        "#3. 적절한 연산자 찾기\n",
        "print(17//4)\n",
        "print(17/4)\n",
        "print(17%4)"
      ],
      "execution_count": 4,
      "outputs": [
        {
          "output_type": "stream",
          "name": "stdout",
          "text": [
            "4\n",
            "4.25\n",
            "1\n"
          ]
        }
      ]
    },
    {
      "cell_type": "code",
      "metadata": {
        "colab": {
          "base_uri": "https://localhost:8080/"
        },
        "id": "cEp5szwL4nFD",
        "outputId": "abc5dd75-94a7-4888-bcf0-cae5dc251f80"
      },
      "source": [
        "#4. 데이터 타입 찾기\n",
        "age = 17\n",
        "strr = \"나이\"\n",
        "tu = (17,'나이')\n",
        "print(type(age))\n",
        "print(type(strr))\n",
        "print(type(tu))"
      ],
      "execution_count": 10,
      "outputs": [
        {
          "output_type": "stream",
          "name": "stdout",
          "text": [
            "<class 'int'>\n",
            "<class 'str'>\n",
            "<class 'tuple'>\n"
          ]
        }
      ]
    },
    {
      "cell_type": "code",
      "metadata": {
        "colab": {
          "base_uri": "https://localhost:8080/"
        },
        "id": "0b5f0Htn_TrJ",
        "outputId": "a83a795e-e2a9-48db-e385-bf2042daa6de"
      },
      "source": [
        "#5. 문자열 인덱싱\n",
        "s = \"Hello hanyang!\"\n",
        "print(s[5],s[-5])"
      ],
      "execution_count": 11,
      "outputs": [
        {
          "output_type": "stream",
          "name": "stdout",
          "text": [
            "  y\n"
          ]
        }
      ]
    },
    {
      "cell_type": "code",
      "metadata": {
        "colab": {
          "base_uri": "https://localhost:8080/"
        },
        "id": "yIb8eQuiAE_5",
        "outputId": "e0f105bb-867c-44cb-fcf3-fe980102ce66"
      },
      "source": [
        "#6. upper.()함수와 문자열 슬라이싱\n",
        "s= \"Hello hanyang!\"\n",
        "print(s)\n",
        "s = s.upper()\n",
        "print(s)\n",
        "print(s[:8])"
      ],
      "execution_count": 12,
      "outputs": [
        {
          "output_type": "stream",
          "name": "stdout",
          "text": [
            "Hello hanyang!\n",
            "HELLO HANYANG!\n",
            "HELLO HA\n"
          ]
        }
      ]
    },
    {
      "cell_type": "code",
      "metadata": {
        "id": "809h6gJxA-Oy"
      },
      "source": [
        "#7. 여러 데이터를 다루는 파이썬의 자료형\n",
        "#리스트, 튜플, 딕셔너리, 셋"
      ],
      "execution_count": 13,
      "outputs": []
    },
    {
      "cell_type": "code",
      "metadata": {
        "colab": {
          "base_uri": "https://localhost:8080/"
        },
        "id": "C1P9WFfRBu0g",
        "outputId": "71bfc094-cbc0-4476-b76e-6a1ef94b6088"
      },
      "source": [
        "#8~9. 리스트\n",
        "a = ['a',1,'python',(1,2),'2',[1,2]]\n",
        "print(a[3])\n",
        "print(1 in a, 2 in a)"
      ],
      "execution_count": 14,
      "outputs": [
        {
          "output_type": "stream",
          "name": "stdout",
          "text": [
            "(1, 2)\n",
            "True False\n"
          ]
        }
      ]
    },
    {
      "cell_type": "code",
      "metadata": {
        "colab": {
          "base_uri": "https://localhost:8080/"
        },
        "id": "27iF0-KpCgwJ",
        "outputId": "a2e2edc3-d50b-4bae-f99a-230d04b19ec7"
      },
      "source": [
        "#10. 리스트와 리스트 함수\n",
        "nums= list(range(4))\n",
        "print(nums)\n",
        "nums.insert(3,100)\n",
        "print(nums)"
      ],
      "execution_count": 16,
      "outputs": [
        {
          "output_type": "stream",
          "name": "stdout",
          "text": [
            "[0, 1, 2, 3]\n",
            "[0, 1, 2, 100, 3]\n"
          ]
        }
      ]
    },
    {
      "cell_type": "code",
      "metadata": {
        "colab": {
          "base_uri": "https://localhost:8080/"
        },
        "id": "rusxsn33Cwnw",
        "outputId": "b4e01175-8774-4a07-fc85-d61035fdcb64"
      },
      "source": [
        "#11 튜플의 개념\n",
        "a = 100\n",
        "b = 200\n",
        "a,b=b,a\n",
        "print(a,b)"
      ],
      "execution_count": 18,
      "outputs": [
        {
          "output_type": "stream",
          "name": "stdout",
          "text": [
            "200 100\n"
          ]
        }
      ]
    },
    {
      "cell_type": "code",
      "metadata": {
        "colab": {
          "base_uri": "https://localhost:8080/"
        },
        "id": "bSxu4MgFDrOA",
        "outputId": "26c67238-c837-415c-874f-36723d304a59"
      },
      "source": [
        " #12. 딕셔너리\n",
        " a = {'han':1,1:2,'1':3}\n",
        "a[1] = 'yang'\n",
        "print(a)"
      ],
      "execution_count": 20,
      "outputs": [
        {
          "output_type": "stream",
          "name": "stdout",
          "text": [
            "{'han': 1, 1: 'yang', '1': 3}\n"
          ]
        }
      ]
    },
    {
      "cell_type": "code",
      "metadata": {
        "colab": {
          "base_uri": "https://localhost:8080/"
        },
        "id": "L0cWLSAsEnbY",
        "outputId": "03e6ee36-3083-43e4-ed38-095165faf3b3"
      },
      "source": [
        " #13.  셋\n",
        "a = set('Hello')\n",
        "print(a)"
      ],
      "execution_count": 21,
      "outputs": [
        {
          "output_type": "stream",
          "name": "stdout",
          "text": [
            "{'l', 'H', 'o', 'e'}\n"
          ]
        }
      ]
    },
    {
      "cell_type": "code",
      "metadata": {
        "colab": {
          "base_uri": "https://localhost:8080/"
        },
        "id": "ToJKIwDsFEw4",
        "outputId": "cd5e8165-db6e-4a01-d0cb-9f21ce4f320f"
      },
      "source": [
        "#14~15.\n",
        "room = [[0,0,1,0,9],\n",
        "        [1,0,1,0,1],\n",
        "        [0,1,1,1,0]]\n",
        "\n",
        "mouse = room[0][2]\n",
        "\n",
        "if mouse == 1:\n",
        "  print(\"cheese\")\n",
        "elif mouse == 9:\n",
        "  printr(\"trap\")\n",
        "else:\n",
        "  print(\"nothing\")"
      ],
      "execution_count": 23,
      "outputs": [
        {
          "output_type": "stream",
          "name": "stdout",
          "text": [
            "cheese\n"
          ]
        }
      ]
    },
    {
      "cell_type": "code",
      "metadata": {
        "colab": {
          "base_uri": "https://localhost:8080/"
        },
        "id": "qr_0fXiSL54-",
        "outputId": "070e9590-3957-4ec0-8dda-9222d9e2ac16"
      },
      "source": [
        "#16~17.\n",
        "\n",
        "a = 0\n",
        "b = 0\n",
        "\n",
        "for i in range(3,9): #(3,4,5,6,7,8)\n",
        "  if i%2 ==0and i%3 ==0:\n",
        "    continue\n",
        "  elif i%2 ==0:\n",
        "    a += 1\n",
        "  elif i%3 ==0:\n",
        "    b += 1\n",
        "print(a,b)"
      ],
      "execution_count": 24,
      "outputs": [
        {
          "output_type": "stream",
          "name": "stdout",
          "text": [
            "2 1\n"
          ]
        }
      ]
    },
    {
      "cell_type": "code",
      "metadata": {
        "colab": {
          "base_uri": "https://localhost:8080/"
        },
        "id": "LvKaBaXDOR3A",
        "outputId": "e1c75383-a2dc-47a8-bcbf-4ca5d4946f9e"
      },
      "source": [
        "#18~20.\n",
        "print(\"=======================민재돼지====================\")\n",
        "print(\"메뉴\")\n",
        "print(\"메뉴번호 1.햄버거(300원) 2. 피자(500) 3.치킨(700원)\")\n",
        "print(\"===================================================\")\n",
        "\n",
        "money = int(input(\"투입 금액: \"))\n",
        "menu = int(input(\"메뉴 번호: \"))\n",
        "\n",
        "if menu == 1:\n",
        "  money -= 300\n",
        "elif menu == 2:\n",
        "  money -= 500\n",
        "elif menu == 3:\n",
        "  money -= 700\n",
        "if money < 0:\n",
        "  print(\"오류: 잔액이 부족합니다!\")\n",
        "else:\n",
        "  won10000 = money//10000\n",
        "  won5000 = money%10000//5000\n",
        "  won1000 = money%5000//1000\n",
        "  won500 = money%1000//500\n",
        "  won100 = money%500//100\n",
        "\n",
        "  print(\"거스름돈 : 만원 {}개, 오천원 {}개, 천원 {}개, 오백원{}개, 백원{}개\".format(won10000, won5000, won1000, won500, won100))"
      ],
      "execution_count": 41,
      "outputs": [
        {
          "output_type": "stream",
          "name": "stdout",
          "text": [
            "=======================민재돼지====================\n",
            "메뉴\n",
            "메뉴번호 1.햄버거(300원) 2. 피자(500) 3.치킨(700원)\n",
            "===================================================\n",
            "투입 금액: 50000\n",
            "메뉴 번호: 3\n",
            "거스름돈 : 만원 4개, 오천원 1개, 천원 4개, 오백원0개, 백원3개\n"
          ]
        }
      ]
    },
    {
      "cell_type": "code",
      "metadata": {
        "id": "Q2nxCJCcPjzm"
      },
      "source": [
        ""
      ],
      "execution_count": 37,
      "outputs": []
    }
  ]
}
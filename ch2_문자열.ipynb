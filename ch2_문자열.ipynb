{
  "nbformat": 4,
  "nbformat_minor": 0,
  "metadata": {
    "colab": {
      "name": "Untitled0.ipynb",
      "provenance": [],
      "authorship_tag": "ABX9TyMGrLR2cAyJZbSKZaee8Ra6",
      "include_colab_link": true
    },
    "kernelspec": {
      "name": "python3",
      "display_name": "Python 3"
    },
    "language_info": {
      "name": "python"
    }
  },
  "cells": [
    {
      "cell_type": "markdown",
      "metadata": {
        "id": "view-in-github",
        "colab_type": "text"
      },
      "source": [
        "<a href=\"https://colab.research.google.com/github/hyeonsick/hyeon_sick/blob/main/ch2_%EB%AC%B8%EC%9E%90%EC%97%B4.ipynb\" target=\"_parent\"><img src=\"https://colab.research.google.com/assets/colab-badge.svg\" alt=\"Open In Colab\"/></a>"
      ]
    },
    {
      "cell_type": "markdown",
      "metadata": {
        "id": "HQMaow5UEHZe"
      },
      "source": [
        "##**학습목표**\n",
        "\n",
        "문자열(str)타입을 이해하기"
      ]
    },
    {
      "cell_type": "markdown",
      "metadata": {
        "id": "iYNsAZLqEcXu"
      },
      "source": [
        "##**문자열(String)**\n",
        "- 여러 개의 문자를 순서대로 나열한 것\n",
        "- 문자열은 '(작은 따옴표)' 혹은 \"(큰 따옴표)\" 사이에 문자를 넣어서 생성\n",
        "- 문자열 자체에\",'가 있는 경우,"
      ]
    },
    {
      "cell_type": "code",
      "metadata": {
        "colab": {
          "base_uri": "https://localhost:8080/"
        },
        "id": "TfUz8ZHoExut",
        "outputId": "9e1e0fc0-8ae8-4992-a8a9-34b759a5cf29"
      },
      "source": [
        "a = \"Hello world!\"\n",
        "b = \" 'Hello' world!\"\n",
        "\n",
        "print(a)\n",
        "print(b)"
      ],
      "execution_count": 1,
      "outputs": [
        {
          "output_type": "stream",
          "text": [
            "Hello world!\n",
            " 'Hello' world!\n"
          ],
          "name": "stdout"
        }
      ]
    },
    {
      "cell_type": "markdown",
      "metadata": {
        "id": "wG1afTucFV8e"
      },
      "source": [
        "##**이스케이프(excape)문자**\n",
        "\n",
        "- 문자열 내의 문자의 의미를 달리하여 특정한 효과\n",
        "- Enter, tab\n",
        "\n",
        "- `\\n`:Enter, 새로운 줄(다음줄)\n",
        "- `\\t`: tap"
      ]
    },
    {
      "cell_type": "code",
      "metadata": {
        "colab": {
          "base_uri": "https://localhost:8080/"
        },
        "id": "846Xbq3RFi4E",
        "outputId": "970e15ea-c277-49d6-bf3e-e98c7fd6c39e"
      },
      "source": [
        "print(\"안녕하세요. \\n제 이름은 \\t이하영 입니다. \\n직업은 \\t선생닙입니다.\")"
      ],
      "execution_count": 6,
      "outputs": [
        {
          "output_type": "stream",
          "text": [
            "안녕하세요. \n",
            "제 이름은 \t이하영 입니다. \n",
            "직업은 \t선생닙입니다.\n"
          ],
          "name": "stdout"
        }
      ]
    },
    {
      "cell_type": "markdown",
      "metadata": {
        "id": "9mIGYsviHWVN"
      },
      "source": [
        "##**문자열의 인덱스(index) 및 추출**\n",
        "\n",
        "- 문자열의 각 문자는 순서가 있음 : `인덱스`\n",
        "- 인덱스 표현은? [ ]\n",
        "- 첫번째 문자부터 마지막까지 차례대로 순서를 가짐\n",
        "- 시작은 0! (1 X)"
      ]
    },
    {
      "cell_type": "code",
      "metadata": {
        "id": "bbgK7H76H39c",
        "outputId": "d24ae813-e358-4c16-bf24-cc12fbf12e0c",
        "colab": {
          "base_uri": "https://localhost:8080/"
        }
      },
      "source": [
        "a = \"Hello World!\" # 번호는 0번~11번까지. 길이는 12\n",
        "print(a[0], a[4], a[5])"
      ],
      "execution_count": 7,
      "outputs": [
        {
          "output_type": "stream",
          "text": [
            "H o  \n"
          ],
          "name": "stdout"
        }
      ]
    },
    {
      "cell_type": "markdown",
      "metadata": {
        "id": "7U4-KbBsIRtF"
      },
      "source": [
        "###**-1인덱스**\n",
        " -  다른 언어와 달리 python은 음수의 인덱스를 지원\n",
        " --1이 가장 마지막 인덱스.-2는 마지막에서 두번재 인덱스"
      ]
    },
    {
      "cell_type": "code",
      "metadata": {
        "id": "mzP3pT9hIVb5",
        "outputId": "b5c4bdde-32ed-4156-93b6-580fa36a250c",
        "colab": {
          "base_uri": "https://localhost:8080/"
        }
      },
      "source": [
        "#a = \"Hello World!\"\n",
        "\n",
        "print(a[-1], a[-3],a[-12]) # a[12]부터, a[-13]부터는 범위를 벗어나서서 에러!"
      ],
      "execution_count": 10,
      "outputs": [
        {
          "output_type": "stream",
          "text": [
            "! l H !\n"
          ],
          "name": "stdout"
        }
      ]
    },
    {
      "cell_type": "markdown",
      "metadata": {
        "id": "cgLIlaBJJ7M_"
      },
      "source": [
        "## 문자열 슬라이싱(slicing)**\n",
        " - 인덱스로 추출할 때는 한글자만 추출한다면, 슬라이싱은 부분 문자열을 추출한다.\n",
        " - [시작:끝]과 같이 명시하여 해당 부분 문자를 추출\n",
        " - 시작이나 끝이 생략되어 있다면, 0부터 혹은 끝까지로 간주해 추출"
      ]
    },
    {
      "cell_type": "code",
      "metadata": {
        "id": "CCyQtr-BKaD8",
        "outputId": "0b4aadfa-746f-48cd-e234-4e8a98632e2b",
        "colab": {
          "base_uri": "https://localhost:8080/"
        }
      },
      "source": [
        "#a = \"Hello World!\"\n",
        "\n",
        "print(a[3:10])\n",
        "print(a[0:10])\n",
        "print(a[3:])\n",
        "print(a[:])"
      ],
      "execution_count": 15,
      "outputs": [
        {
          "output_type": "stream",
          "text": [
            "lo Worl\n",
            "Hello Worl\n",
            "lo World!\n",
            "Hello World!\n"
          ],
          "name": "stdout"
        }
      ]
    },
    {
      "cell_type": "markdown",
      "metadata": {
        "id": "1HUAl-5aK7LW"
      },
      "source": [
        "## **문자열 내장 함수**\n",
        " - 문자열에 여러가지 기능을 제공"
      ]
    },
    {
      "cell_type": "code",
      "metadata": {
        "id": "wOv89gAdLBvr",
        "outputId": "246a4a43-b5c8-4659-a3f5-5b297b831b5f",
        "colab": {
          "base_uri": "https://localhost:8080/"
        }
      },
      "source": [
        "#a = \"Hello World!\"\n",
        "print(a.upper())\n",
        "print(a.lower())\n",
        "print(a.replace('H','J'))\n",
        "print(a.replace('ello','i'))\n",
        "print(len(a))\n",
        "print(a.count('l'))\n",
        "\n",
        "print(a.find('w'))\n",
        "print(a.index('W'))\n",
        "\n",
        "b = \"!\".join(a)\n",
        "print(b)"
      ],
      "execution_count": 31,
      "outputs": [
        {
          "output_type": "stream",
          "text": [
            "HELLO WORLD!\n",
            "hello world!\n",
            "Jello World!\n",
            "Hi World!\n",
            "12\n",
            "3\n",
            "-1\n",
            "6\n",
            "H!e!l!l!o! !W!o!r!l!d!!\n"
          ],
          "name": "stdout"
        }
      ]
    },
    {
      "cell_type": "markdown",
      "metadata": {
        "id": "JulGnk7qSwto"
      },
      "source": [
        "##**format**\n",
        "- 문자열내의 특정한 값을 변수로부터 초기화하여 동적으로 문자열을 생성"
      ]
    },
    {
      "cell_type": "code",
      "metadata": {
        "id": "WFM72thZS507",
        "outputId": "69e8f870-3ef7-46db-fb81-66ebc49f06f3",
        "colab": {
          "base_uri": "https://localhost:8080/",
          "height": 53
        }
      },
      "source": [
        "temp = 23\n",
        "per = 80\n",
        "\n",
        "a= '현재 기온은 {}도 이고, 비 올 확률은 {}%입니다.'.format(temp,per)\n",
        "print(a)\n",
        "\n",
        "cla = 3\n",
        "#b = \n",
        "f'현재 프로그래밍 시간은 {cla}교시다'"
      ],
      "execution_count": 37,
      "outputs": [
        {
          "output_type": "stream",
          "text": [
            "현재 기온은 23도 이고, 비 올 확률은 80%입니다.\n"
          ],
          "name": "stdout"
        },
        {
          "output_type": "execute_result",
          "data": {
            "application/vnd.google.colaboratory.intrinsic+json": {
              "type": "string"
            },
            "text/plain": [
              "'현재 프로그래밍 시간은 3교시다'"
            ]
          },
          "metadata": {},
          "execution_count": 37
        }
      ]
    },
    {
      "cell_type": "markdown",
      "metadata": {
        "id": "FlJO5NCRVIjH"
      },
      "source": [
        "#### **split**\n",
        "- 문자열을 특정한 문자로 구분하여 치환"
      ]
    },
    {
      "cell_type": "code",
      "metadata": {
        "id": "eukDtFHaVUXv",
        "outputId": "87529d58-d26c-4086-990e-74735f1df2e7",
        "colab": {
          "base_uri": "https://localhost:8080/"
        }
      },
      "source": [
        "a = 'what a wonderful day! nice weather!'\n",
        "a.split('w')"
      ],
      "execution_count": 41,
      "outputs": [
        {
          "output_type": "execute_result",
          "data": {
            "text/plain": [
              "['', 'hat a ', 'onderful day! nice ', 'eather!']"
            ]
          },
          "metadata": {},
          "execution_count": 41
        }
      ]
    },
    {
      "cell_type": "code",
      "metadata": {
        "id": "w8RSPkI3VeMn"
      },
      "source": [
        ""
      ],
      "execution_count": null,
      "outputs": []
    }
  ]
}
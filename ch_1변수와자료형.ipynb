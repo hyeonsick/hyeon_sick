{
  "nbformat": 4,
  "nbformat_minor": 0,
  "metadata": {
    "colab": {
      "name": "Untitled0.ipynb",
      "provenance": [],
      "authorship_tag": "ABX9TyPaS2p+JTc9JalbdaJ3m3RK",
      "include_colab_link": true
    },
    "kernelspec": {
      "name": "python3",
      "display_name": "Python 3"
    },
    "language_info": {
      "name": "python"
    }
  },
  "cells": [
    {
      "cell_type": "markdown",
      "metadata": {
        "id": "view-in-github",
        "colab_type": "text"
      },
      "source": [
        "<a href=\"https://colab.research.google.com/github/hyeonsick/hyeon_sick/blob/main/ch_1%EB%B3%80%EC%88%98%EC%99%80%EC%9E%90%EB%A3%8C%ED%98%95.ipynb\" target=\"_parent\"><img src=\"https://colab.research.google.com/assets/colab-badge.svg\" alt=\"Open In Colab\"/></a>"
      ]
    },
    {
      "cell_type": "markdown",
      "metadata": {
        "id": "3dUIB8bRZYdA"
      },
      "source": [
        "## **학습목표**\n",
        "1. python 언어에서 변수의의미를이해하기\n",
        "2. 기본 데이터 타입 선언하기\n",
        "  - int, float, str, bool"
      ]
    },
    {
      "cell_type": "markdown",
      "metadata": {
        "id": "tN4cuJ0nb7h2"
      },
      "source": [
        "## = 대입연산자\n",
        "- 오른쪽 수식이나 값을 계산한 후 왼쪽에 명시된 변수에 해당 값을 대입\n",
        "- 변수는 해당 값을 가지게 된다. "
      ]
    },
    {
      "cell_type": "code",
      "metadata": {
        "id": "dGqtT5YrcWyQ"
      },
      "source": [
        "a = 10 #int\n",
        "b = 11.4 #float"
      ],
      "execution_count": null,
      "outputs": []
    },
    {
      "cell_type": "markdown",
      "metadata": {
        "id": "KSIwn_8cduS3"
      },
      "source": [
        "## **주석**\n",
        "- 코드에서 #으로 시작하는 뒷부분\n",
        "- python에서는 소스코드를 실행할 때 #을 만나면 무시\n",
        "- 개발자(사람)이 보기 위한 용도로 사용"
      ]
    },
    {
      "cell_type": "code",
      "metadata": {
        "id": "Ix9AakuJdCju"
      },
      "source": [
        "# this line is very important\n",
        "# so don't delete those line\n",
        "\n",
        "math = 76"
      ],
      "execution_count": null,
      "outputs": []
    },
    {
      "cell_type": "markdown",
      "metadata": {
        "id": "NsB4b3jed589"
      },
      "source": [
        "## **변수 값 확인법**\n",
        "- print() 함수 사용\n",
        "- 코드에 마지막에 변수 값을 위치시킨 후 실행"
      ]
    },
    {
      "cell_type": "code",
      "metadata": {
        "colab": {
          "base_uri": "https://localhost:8080/"
        },
        "id": "trB9WfJpeYKk",
        "outputId": "32938ad3-6426-4e80-b234-10658771a1bd"
      },
      "source": [
        "a = 10\n",
        "b = 11.4\n",
        "a\n",
        "b\n",
        "print(a) \n",
        "print(a,b)\n",
        "b"
      ],
      "execution_count": null,
      "outputs": [
        {
          "output_type": "stream",
          "text": [
            "10\n",
            "10 11.4\n"
          ],
          "name": "stdout"
        },
        {
          "output_type": "execute_result",
          "data": {
            "text/plain": [
              "11.4"
            ]
          },
          "metadata": {},
          "execution_count": 11
        }
      ]
    },
    {
      "cell_type": "markdown",
      "metadata": {
        "id": "O37K2--LgOrm"
      },
      "source": [
        "###  **print함수**\n",
        "- 함수란 특정 기능을 반복적으로 호출하여 사용가능한 코드 블럭\n",
        "- , 로 여러 변수를 한줄에 출력\n",
        "- 기본적으로 한칸 띄어쓰기 후 출력"
      ]
    },
    {
      "cell_type": "code",
      "metadata": {
        "colab": {
          "base_uri": "https://localhost:8080/"
        },
        "id": "OwKqh7A5gkfj",
        "outputId": "d364d2a5-5bbb-4d83-8e5d-6e07105f87ae"
      },
      "source": [
        "print(a,b)\n",
        "print(a, 10, 200, b)\n",
        "print(\"민재야 호떡 맛있냐?\")"
      ],
      "execution_count": null,
      "outputs": [
        {
          "output_type": "stream",
          "text": [
            "10 11.4\n",
            "10 10 200 11.4\n",
            "민재야 호떡 맛있냐?\n"
          ],
          "name": "stdout"
        }
      ]
    },
    {
      "cell_type": "markdown",
      "metadata": {
        "id": "UAc0mcDEhGCd"
      },
      "source": [
        "**print 함수 설정**\n",
        "- sep(구분자) : 각 변수 사이에서 구분해주는 역할\n",
        "- end : 마지막에 출력할 문자열"
      ]
    },
    {
      "cell_type": "code",
      "metadata": {
        "colab": {
          "base_uri": "https://localhost:8080/"
        },
        "id": "prHYk7ZXhkSt",
        "outputId": "877fcc61-6324-40cf-d2da-a57536f82379"
      },
      "source": [
        "print(a,b, 200, \"현식\", sep='#', end='!!')"
      ],
      "execution_count": null,
      "outputs": [
        {
          "output_type": "stream",
          "text": [
            "10#11.4#200#현식!!"
          ],
          "name": "stdout"
        }
      ]
    },
    {
      "cell_type": "markdown",
      "metadata": {
        "id": "YMK1Jw7X2gZ1"
      },
      "source": [
        "##**변수 이름 규칙**\n",
        "\n",
        "- 시작을 영문 대소문자,_ 구성 가능\n",
        "- BUT 숫자는 불가능\n",
        "- 일반적으로 변수를 표현할 때 정확하고 간결한 이름을 사용하는 것이 원칙"
      ]
    },
    {
      "cell_type": "code",
      "metadata": {
        "id": "Nb4vij423RUq"
      },
      "source": [
        "abcABC = 1000\n",
        "____abc = 100\n",
        "ACBV = 100\n",
        "\n",
        "       ###4ever = 10"
      ],
      "execution_count": 1,
      "outputs": []
    },
    {
      "cell_type": "markdown",
      "metadata": {
        "id": "Tah6RkAX3oxe"
      },
      "source": [
        "### **예약어(키워드)**\n",
        "\n",
        "- python에서 미리 선점해서 사용중인 키워드\n",
        "- import, for, while, if, elif 등..."
      ]
    },
    {
      "cell_type": "code",
      "metadata": {
        "id": "OlImS7M634as"
      },
      "source": [
        "_for = 100\n",
        "###for= 120"
      ],
      "execution_count": 2,
      "outputs": []
    },
    {
      "cell_type": "markdown",
      "metadata": {
        "id": "35ryKEhj4J0-"
      },
      "source": [
        "##** 기본 데이터 타입**\n",
        "\n",
        "- 정수(int)\n",
        "- 실수(float)\n",
        "- 문자열(str)\n",
        "- 불리언(boolean)\n",
        "\n",
        "**type() 함수**\n",
        "- 해당 변수, 값의 타입(type)을 알고자 할 때 사용"
      ]
    },
    {
      "cell_type": "code",
      "metadata": {
        "id": "PQMGKvqW4j9Q",
        "outputId": "596600e2-5aef-43ee-f522-0e022958d479",
        "colab": {
          "base_uri": "https://localhost:8080/"
        }
      },
      "source": [
        "a = 100\n",
        "b = 11.4\n",
        "c = \"오늘은 비가 와요\"\n",
        "d = a>b\n",
        "\n",
        "print(type(a),a, type(b),b,  type(c),c,  type(d), d)"
      ],
      "execution_count": 5,
      "outputs": [
        {
          "output_type": "stream",
          "text": [
            "<class 'int'> 100 <class 'float'> 11.4 <class 'str'> 오늘은 비가 와요 <class 'bool'> True\n"
          ],
          "name": "stdout"
        }
      ]
    },
    {
      "cell_type": "markdown",
      "metadata": {
        "id": "4HNL5pG66c8-"
      },
      "source": [
        "### **None**\n",
        "\n",
        "- 아무런 값을 갖지 않을 때 사용\n",
        "- 일반적으로 변수가 초기값을 갖지 않게 하기 위해 사용\n",
        "- NULL과 같은 의미\n"
      ]
    },
    {
      "cell_type": "code",
      "metadata": {
        "id": "KvEXwfDv6_Nt",
        "outputId": "0d90026f-cb6f-4a84-8885-70764e1fde76",
        "colab": {
          "base_uri": "https://localhost:8080/"
        }
      },
      "source": [
        "c = None\n",
        "print(c)"
      ],
      "execution_count": 6,
      "outputs": [
        {
          "output_type": "stream",
          "text": [
            "None\n"
          ],
          "name": "stdout"
        }
      ]
    },
    {
      "cell_type": "markdown",
      "metadata": {
        "id": "UzQjSy3U7bFd"
      },
      "source": [
        "##**비교연산자**\n",
        "\n",
        "- 프로그래밍에서 비교를 할 경우 사용한ㄷ.\n",
        "- <,>(작다, 크다)\n",
        "- <=,>=(작거나 같다, 크거나 같다)\n",
        "- ==(같다)\n",
        "- != (같지 않다)\n",
        "- 비교 연산자 결과는 Bool(참고 거짓)"
      ]
    },
    {
      "cell_type": "code",
      "metadata": {
        "id": "Khzm5kab8KHy",
        "outputId": "cc98124b-ec22-4493-94cf-2893c885396a",
        "colab": {
          "base_uri": "https://localhost:8080/"
        }
      },
      "source": [
        "a = 5\n",
        "b = 4\n",
        "\n",
        "print(a>b) ## True\n",
        "print(a<b) ## False\n",
        "print(a>=b) ## True\n",
        "print(a<=b) ## False\n",
        "print(a==b) ## False\n",
        "print(a!=b) ## True"
      ],
      "execution_count": 7,
      "outputs": [
        {
          "output_type": "stream",
          "text": [
            "True\n",
            "False\n",
            "True\n",
            "False\n",
            "False\n",
            "True\n"
          ],
          "name": "stdout"
        }
      ]
    },
    {
      "cell_type": "markdown",
      "metadata": {
        "id": "qWpLGPiHBSh2"
      },
      "source": [
        "##**기본연산자**"
      ]
    },
    {
      "cell_type": "code",
      "metadata": {
        "id": "RlA-K1K9BVyo",
        "outputId": "84c9d5be-ca81-43b1-a3e3-7c2733971376",
        "colab": {
          "base_uri": "https://localhost:8080/"
        }
      },
      "source": [
        "print(a+b)    # a= 5, b =4\n",
        "print(a-b)\n",
        "print(a*b)\n",
        "print(a/b)\n",
        "print(a//b)\n",
        "print(a%b)\n",
        "print(a**b)   #5의 4제곱"
      ],
      "execution_count": 14,
      "outputs": [
        {
          "output_type": "stream",
          "text": [
            "9\n",
            "1\n",
            "20\n",
            "1.25\n",
            "1\n",
            "1\n",
            "625\n"
          ],
          "name": "stdout"
        }
      ]
    },
    {
      "cell_type": "markdown",
      "metadata": {
        "id": "hkI3g4wqCHM2"
      },
      "source": [
        "##**연산자 우선순위**\n",
        " - 기본적으로 수학의 연산자와 동일\n",
        " - 강제로 연산을 먼저하기 위해서는 ()을 사용"
      ]
    },
    {
      "cell_type": "code",
      "metadata": {
        "id": "5q0HlZ2tCT2n",
        "outputId": "4a33b316-95d4-4578-e72f-bb045fb32d4d",
        "colab": {
          "base_uri": "https://localhost:8080/"
        }
      },
      "source": [
        "print(a+b*2) #a=5, b=4\n",
        "print((a+b)*2)\n",
        "print(2*a**3)"
      ],
      "execution_count": 13,
      "outputs": [
        {
          "output_type": "stream",
          "text": [
            "13\n",
            "18\n",
            "250\n"
          ],
          "name": "stdout"
        }
      ]
    },
    {
      "cell_type": "code",
      "metadata": {
        "id": "Dg4vZNCZCoAy"
      },
      "source": [
        ""
      ],
      "execution_count": null,
      "outputs": []
    }
  ]
}
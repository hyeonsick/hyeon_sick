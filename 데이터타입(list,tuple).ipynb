{
  "nbformat": 4,
  "nbformat_minor": 0,
  "metadata": {
    "colab": {
      "name": "데이터타입(list,tuple).ipynb",
      "provenance": [],
      "authorship_tag": "ABX9TyPbpJoBycOIuy/KJLVgBcrZ",
      "include_colab_link": true
    },
    "kernelspec": {
      "name": "python3",
      "display_name": "Python 3"
    },
    "language_info": {
      "name": "python"
    }
  },
  "cells": [
    {
      "cell_type": "markdown",
      "metadata": {
        "id": "view-in-github",
        "colab_type": "text"
      },
      "source": [
        "<a href=\"https://colab.research.google.com/github/hyeonsick/hyeon_sick/blob/main/%EB%8D%B0%EC%9D%B4%ED%84%B0%ED%83%80%EC%9E%85(list%2Ctuple).ipynb\" target=\"_parent\"><img src=\"https://colab.research.google.com/assets/colab-badge.svg\" alt=\"Open In Colab\"/></a>"
      ]
    },
    {
      "cell_type": "markdown",
      "metadata": {
        "id": "vid8XdgG8lYf"
      },
      "source": [
        "## **학습목표**\n",
        "-리스트(list)와 튜플(tuple)에 대해 이해하기\n",
        "- 딕셔너리(dic)와 셋(set)에 대해 이해하기"
      ]
    },
    {
      "cell_type": "markdown",
      "metadata": {
        "id": "3lEAO5pW9B9G"
      },
      "source": [
        "### **리스트(list)와 튜플(tuple)**\n",
        "\n",
        "- 여러 개의 값을 담을 수 있는 데이터 구조\n",
        "- list : 생성한 후에 변경이 가능\n",
        "- tuple : 생성한 후 변경 불가능"
      ]
    },
    {
      "cell_type": "code",
      "metadata": {
        "colab": {
          "base_uri": "https://localhost:8080/"
        },
        "id": "XSVRX_ui9qfe",
        "outputId": "732bf61d-e048-44c9-d9ef-cd9a0c95397b"
      },
      "source": [
        "a = [1,2,3,4,5]\n",
        "print(a)"
      ],
      "execution_count": 1,
      "outputs": [
        {
          "output_type": "stream",
          "name": "stdout",
          "text": [
            "[1, 2, 3, 4, 5]\n"
          ]
        }
      ]
    },
    {
      "cell_type": "code",
      "metadata": {
        "colab": {
          "base_uri": "https://localhost:8080/"
        },
        "id": "8mcEYOfn9wNz",
        "outputId": "a702f917-e6c9-4a42-93a5-0329d8efb90e"
      },
      "source": [
        "a = ['컴넷', 'A', '1학년', 10, 20, [2,3]]\n",
        "print(a)"
      ],
      "execution_count": 2,
      "outputs": [
        {
          "output_type": "stream",
          "name": "stdout",
          "text": [
            "['컴넷', 'A', '1학년', 10, 20, [2, 3]]\n"
          ]
        }
      ]
    },
    {
      "cell_type": "code",
      "metadata": {
        "colab": {
          "base_uri": "https://localhost:8080/"
        },
        "id": "gtk4kuaL9-M8",
        "outputId": "051046b4-ca47-4eca-d265-f9ee5f472f9b"
      },
      "source": [
        "a = \"hello comnet A!\"\n",
        "b = list(a)\n",
        "c = a.split()\n",
        "d = a.split('l')\n",
        "print(b)\n",
        "print(c)\n",
        "print(d)"
      ],
      "execution_count": 7,
      "outputs": [
        {
          "output_type": "stream",
          "name": "stdout",
          "text": [
            "['h', 'e', 'l', 'l', 'o', ' ', 'c', 'o', 'm', 'n', 'e', 't', ' ', 'A', '!']\n",
            "['hello', 'comnet', 'A!']\n",
            "['he', '', 'o comnet A!']\n"
          ]
        }
      ]
    },
    {
      "cell_type": "markdown",
      "metadata": {
        "id": "UKwppmzQ_0kP"
      },
      "source": [
        "## **리스트 indexing**\n",
        "\n",
        "- []연산자를 이용해 항목을 가져온다.\n",
        "- [i] : i번째 원소를 반환한다.\n",
        "- i가 음수면, 마지막 원소에서 -1로 하여 가져온다.\n"
      ]
    },
    {
      "cell_type": "code",
      "metadata": {
        "colab": {
          "base_uri": "https://localhost:8080/",
          "height": 239
        },
        "id": "Iv4fOSR0AfGu",
        "outputId": "14cad093-fc61-413a-c2e5-c37eca2e00bd"
      },
      "source": [
        "a = [1,2,3,4,5,6,7,8,9,10]\n",
        "print(a[0], a[2])\n",
        "print(a[-1], a[-3],a[-10])\n",
        "print(a[10])"
      ],
      "execution_count": 11,
      "outputs": [
        {
          "output_type": "stream",
          "name": "stdout",
          "text": [
            "1 3\n",
            "10 8 1\n"
          ]
        },
        {
          "output_type": "error",
          "ename": "IndexError",
          "evalue": "ignored",
          "traceback": [
            "\u001b[0;31m---------------------------------------------------------------------------\u001b[0m",
            "\u001b[0;31mIndexError\u001b[0m                                Traceback (most recent call last)",
            "\u001b[0;32m<ipython-input-11-250aa4507f98>\u001b[0m in \u001b[0;36m<module>\u001b[0;34m()\u001b[0m\n\u001b[1;32m      2\u001b[0m \u001b[0mprint\u001b[0m\u001b[0;34m(\u001b[0m\u001b[0ma\u001b[0m\u001b[0;34m[\u001b[0m\u001b[0;36m0\u001b[0m\u001b[0;34m]\u001b[0m\u001b[0;34m,\u001b[0m \u001b[0ma\u001b[0m\u001b[0;34m[\u001b[0m\u001b[0;36m2\u001b[0m\u001b[0;34m]\u001b[0m\u001b[0;34m)\u001b[0m\u001b[0;34m\u001b[0m\u001b[0;34m\u001b[0m\u001b[0m\n\u001b[1;32m      3\u001b[0m \u001b[0mprint\u001b[0m\u001b[0;34m(\u001b[0m\u001b[0ma\u001b[0m\u001b[0;34m[\u001b[0m\u001b[0;34m-\u001b[0m\u001b[0;36m1\u001b[0m\u001b[0;34m]\u001b[0m\u001b[0;34m,\u001b[0m \u001b[0ma\u001b[0m\u001b[0;34m[\u001b[0m\u001b[0;34m-\u001b[0m\u001b[0;36m3\u001b[0m\u001b[0;34m]\u001b[0m\u001b[0;34m,\u001b[0m\u001b[0ma\u001b[0m\u001b[0;34m[\u001b[0m\u001b[0;34m-\u001b[0m\u001b[0;36m10\u001b[0m\u001b[0;34m]\u001b[0m\u001b[0;34m)\u001b[0m\u001b[0;34m\u001b[0m\u001b[0;34m\u001b[0m\u001b[0m\n\u001b[0;32m----> 4\u001b[0;31m \u001b[0mprint\u001b[0m\u001b[0;34m(\u001b[0m\u001b[0ma\u001b[0m\u001b[0;34m[\u001b[0m\u001b[0;36m10\u001b[0m\u001b[0;34m]\u001b[0m\u001b[0;34m)\u001b[0m\u001b[0;34m\u001b[0m\u001b[0;34m\u001b[0m\u001b[0m\n\u001b[0m",
            "\u001b[0;31mIndexError\u001b[0m: list index out of range"
          ]
        }
      ]
    },
    {
      "cell_type": "code",
      "metadata": {
        "colab": {
          "base_uri": "https://localhost:8080/"
        },
        "id": "uQhEovpGAmlo",
        "outputId": "4cb1b2eb-15d2-4e83-e5a2-1c16e5ecaaca"
      },
      "source": [
        "#인덱스 접근 후 값을 업데이트\n",
        "a = \"hello comnet A!\"\n",
        "b = a.replace('l','w')\n",
        "c = 'j' +a[1:]\n",
        "print(b)\n",
        "print(c)\n",
        "\n",
        "a = [1,2,3,4,5,6,7,8,9,10]\n",
        "a[0] = 100\n",
        "a[-1] = 90\n",
        "print(a)"
      ],
      "execution_count": 15,
      "outputs": [
        {
          "output_type": "stream",
          "name": "stdout",
          "text": [
            "hewwo comnet A!\n",
            "jello comnet A!\n",
            "[100, 2, 3, 4, 5, 6, 7, 8, 9, 90]\n"
          ]
        }
      ]
    },
    {
      "cell_type": "markdown",
      "metadata": {
        "id": "m_jkIRpLN9vS"
      },
      "source": [
        "### **리스트 slicing\n",
        "- 슬라이싱 결과 역시 리스트\n"
      ]
    },
    {
      "cell_type": "code",
      "metadata": {
        "colab": {
          "base_uri": "https://localhost:8080/"
        },
        "id": "epTJXM11OGYF",
        "outputId": "42eeda05-4101-4ff7-f3e0-7c3c69c588fb"
      },
      "source": [
        "# a = [1,2,3,4,5,6,7,8,9,10]\n",
        "\n",
        "print(a[3:7])\n",
        "print(a[:7])\n",
        "print(a[3:])\n",
        "print(a[:])\n",
        "print(a[1:7:2])"
      ],
      "execution_count": 20,
      "outputs": [
        {
          "output_type": "stream",
          "name": "stdout",
          "text": [
            "[4, 5, 6, 7]\n",
            "[100, 2, 3, 4, 5, 6, 7]\n",
            "[4, 5, 6, 7, 8, 9, 90]\n",
            "[100, 2, 3, 4, 5, 6, 7, 8, 9, 90]\n",
            "[2, 4, 6]\n"
          ]
        }
      ]
    },
    {
      "cell_type": "markdown",
      "metadata": {
        "id": "fJCVH-AsPABC"
      },
      "source": [
        "### **리스트 멤버 함수**\n",
        "- 생성된 리스트에 동작하는 함수\n",
        "- append() : 리스트 끝에다가 항목을 추가\n",
        "- extend() : 리스트를 연장(+=)\n",
        "- insert() : 원하는 위치에 추가 가능 (위치, 아이템)\n",
        "\n",
        "- remove() : 값으로 항목을 삭제\n",
        "- pop() : 지우고자 하는 인덱스에 아이템을 반환후 삭제\n",
        "- index() : 찾고자하는 값의 인덱스를 반환"
      ]
    },
    {
      "cell_type": "code",
      "metadata": {
        "colab": {
          "base_uri": "https://localhost:8080/"
        },
        "id": "57HU2GRDPWsO",
        "outputId": "7d115be8-9c38-4741-a096-119948b7ec59"
      },
      "source": [
        "a = [1,2,3,4,5]\n",
        "a.append(10)\n",
        "print(a)"
      ],
      "execution_count": 24,
      "outputs": [
        {
          "output_type": "stream",
          "name": "stdout",
          "text": [
            "[1, 2, 3, 4, 5, 10]\n"
          ]
        }
      ]
    },
    {
      "cell_type": "code",
      "metadata": {
        "colab": {
          "base_uri": "https://localhost:8080/"
        },
        "id": "4neXQ9WVPfh6",
        "outputId": "2646c860-e65a-4073-c4b3-e42372416f05"
      },
      "source": [
        "a += b\n",
        "print(a)"
      ],
      "execution_count": 26,
      "outputs": [
        {
          "output_type": "stream",
          "name": "stdout",
          "text": [
            "[1, 2, 3, 4, 5, 10, 11, 12, 13, 14, 15, 11, 12, 13, 14, 15]\n"
          ]
        }
      ]
    },
    {
      "cell_type": "code",
      "metadata": {
        "colab": {
          "base_uri": "https://localhost:8080/"
        },
        "id": "gbkiFTpOQctg",
        "outputId": "55a85545-621f-45d2-dad6-07b8ac21f1a3"
      },
      "source": [
        "a.insert(5, 20)\n",
        "print(a)"
      ],
      "execution_count": 27,
      "outputs": [
        {
          "output_type": "stream",
          "name": "stdout",
          "text": [
            "[1, 2, 3, 4, 5, 20, 10, 11, 12, 13, 14, 15, 11, 12, 13, 14, 15]\n"
          ]
        }
      ]
    },
    {
      "cell_type": "code",
      "metadata": {
        "colab": {
          "base_uri": "https://localhost:8080/"
        },
        "id": "IcWzvu-CQl4T",
        "outputId": "8652c70a-fda6-492e-c3ab-37243329bafb"
      },
      "source": [
        "a.remove(5)\n",
        "print(a)"
      ],
      "execution_count": 28,
      "outputs": [
        {
          "output_type": "stream",
          "name": "stdout",
          "text": [
            "[1, 2, 3, 4, 20, 10, 11, 12, 13, 14, 15, 11, 12, 13, 14, 15]\n"
          ]
        }
      ]
    },
    {
      "cell_type": "code",
      "metadata": {
        "colab": {
          "base_uri": "https://localhost:8080/"
        },
        "id": "L4QWMZMoRG4W",
        "outputId": "1f9231b8-33e8-4934-d03c-a3b24730340c"
      },
      "source": [
        "a = [1,2,3,4,10,11,12,13,14,15]\n",
        "c = a.pop(0)\n",
        "print(a)\n",
        "print(c)"
      ],
      "execution_count": 30,
      "outputs": [
        {
          "output_type": "stream",
          "name": "stdout",
          "text": [
            "[2, 3, 4, 10, 11, 12, 13, 14, 15]\n",
            "1\n"
          ]
        }
      ]
    },
    {
      "cell_type": "code",
      "metadata": {
        "colab": {
          "base_uri": "https://localhost:8080/"
        },
        "id": "vRkYzXJ-ScaG",
        "outputId": "d92a2846-5f2c-4b77-ebe4-8496fa1cc70b"
      },
      "source": [
        "a = [2,6,7,9,10]\n",
        "a.index(10)"
      ],
      "execution_count": 31,
      "outputs": [
        {
          "output_type": "execute_result",
          "data": {
            "text/plain": [
              "4"
            ]
          },
          "metadata": {},
          "execution_count": 31
        }
      ]
    },
    {
      "cell_type": "markdown",
      "metadata": {
        "id": "9ER5CchcXa0E"
      },
      "source": [
        "## **in 키워드**\n",
        "- 리스트 내에 해당 값이 존재하는지\n",
        "- True, False 중 한가지로 반환\n",
        "- 값 in [list]"
      ]
    },
    {
      "cell_type": "code",
      "metadata": {
        "colab": {
          "base_uri": "https://localhost:8080/"
        },
        "id": "EgYjQtR3Xp-B",
        "outputId": "389c23c6-807a-4302-9a72-77c9b030e1a9"
      },
      "source": [
        "a = [1,2,3,4,5,6,7]\n",
        "b = 5\n",
        "c = 10\n",
        "d = b in a\n",
        "print(d)\n",
        "print(b in a)\n",
        "print(c in a)"
      ],
      "execution_count": 34,
      "outputs": [
        {
          "output_type": "stream",
          "name": "stdout",
          "text": [
            "True\n",
            "True\n",
            "False\n"
          ]
        }
      ]
    },
    {
      "cell_type": "markdown",
      "metadata": {
        "id": "VNHxMJgqYCRc"
      },
      "source": [
        "**list 정력**\n",
        "\n",
        "- sort() : 리스트 자체를 내부적으로 정렬\n",
        "- sorted(): 정력된 리스트의 복사본을 반환"
      ]
    },
    {
      "cell_type": "code",
      "metadata": {
        "colab": {
          "base_uri": "https://localhost:8080/"
        },
        "id": "ru2yPdTZZf30",
        "outputId": "0cb17422-4ac4-4853-a68f-e89e04a9596d"
      },
      "source": [
        "a = [9,10,23, 1,2,45,2,35,123,31,6]\n",
        "b = sorted(a)\n",
        "print(a)\n",
        "a.sort(reverse=True)\n",
        "print(a)\n",
        "print(b)"
      ],
      "execution_count": 39,
      "outputs": [
        {
          "output_type": "stream",
          "name": "stdout",
          "text": [
            "[9, 10, 23, 1, 2, 45, 2, 35, 123, 31, 6]\n",
            "[123, 45, 35, 31, 23, 10, 9, 6, 2, 2, 1]\n",
            "[1, 2, 2, 6, 9, 10, 23, 31, 35, 45, 123]\n"
          ]
        }
      ]
    },
    {
      "cell_type": "markdown",
      "metadata": {
        "id": "y8EGhFhlarV2"
      },
      "source": [
        "## **튜플(Tuple)**\n",
        "- 리스트와 같이 여러 개의 값을 갖는 데이터 컬렉션 타입\n",
        "- 생성된 후 변경이 불가능"
      ]
    },
    {
      "cell_type": "code",
      "metadata": {
        "colab": {
          "base_uri": "https://localhost:8080/"
        },
        "id": "gn_NMZkma-8S",
        "outputId": "697765e7-687a-4c6e-fa5a-bb5fe5c38c5d"
      },
      "source": [
        "a = [1,2,3]\n",
        "b = (1,2,3)\n",
        "\n",
        "print(type(a))\n",
        "print(type(b))\n",
        "\n",
        "a[0] = 100\n",
        "print(a)\n",
        "#b[0] = 100 오류\n",
        "# print(b)"
      ],
      "execution_count": 41,
      "outputs": [
        {
          "output_type": "stream",
          "name": "stdout",
          "text": [
            "<class 'list'>\n",
            "<class 'tuple'>\n",
            "[100, 2, 3]\n"
          ]
        }
      ]
    },
    {
      "cell_type": "code",
      "metadata": {
        "colab": {
          "base_uri": "https://localhost:8080/"
        },
        "id": "H4cUuvAJbhJa",
        "outputId": "5c5e9bbb-9a97-4eb2-8c93-95e99b4d103f"
      },
      "source": [
        "a,b,c,d = 10,20,30,40\n",
        "print(a,b,c,d)"
      ],
      "execution_count": 42,
      "outputs": [
        {
          "output_type": "stream",
          "name": "stdout",
          "text": [
            "10 20 30 40\n"
          ]
        }
      ]
    },
    {
      "cell_type": "code",
      "metadata": {
        "colab": {
          "base_uri": "https://localhost:8080/"
        },
        "id": "n7NW6qWfb0ls",
        "outputId": "7a5ea84a-b1bc-42ef-d99d-bc00e7de86ae"
      },
      "source": [
        "a = 5\n",
        "b = 4\n",
        "\n",
        "#문제! a,b의 값을 교환하시오\n",
        "#temp = a\n",
        "#a = b\n",
        "#b = temp\n",
        "print(a,b)\n",
        "a, b = b, a\n",
        "print(a, b)"
      ],
      "execution_count": 44,
      "outputs": [
        {
          "output_type": "stream",
          "name": "stdout",
          "text": [
            "5 4\n",
            "4 5\n"
          ]
        }
      ]
    },
    {
      "cell_type": "code",
      "metadata": {
        "id": "YwY84o_ycXtH"
      },
      "source": [
        ""
      ],
      "execution_count": null,
      "outputs": []
    }
  ]
}
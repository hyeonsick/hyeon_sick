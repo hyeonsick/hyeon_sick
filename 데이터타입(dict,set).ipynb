{
  "nbformat": 4,
  "nbformat_minor": 0,
  "metadata": {
    "colab": {
      "name": "데이터타입(dict,set).ipynb",
      "provenance": [],
      "authorship_tag": "ABX9TyO6IVQaUtHg/tqz9niV4b3k",
      "include_colab_link": true
    },
    "kernelspec": {
      "name": "python3",
      "display_name": "Python 3"
    },
    "language_info": {
      "name": "python"
    }
  },
  "cells": [
    {
      "cell_type": "markdown",
      "metadata": {
        "id": "view-in-github",
        "colab_type": "text"
      },
      "source": [
        "<a href=\"https://colab.research.google.com/github/hyeonsick/hyeon_sick/blob/main/%EB%8D%B0%EC%9D%B4%ED%84%B0%ED%83%80%EC%9E%85(dict%2Cset).ipynb\" target=\"_parent\"><img src=\"https://colab.research.google.com/assets/colab-badge.svg\" alt=\"Open In Colab\"/></a>"
      ]
    },
    {
      "cell_type": "markdown",
      "metadata": {
        "id": "1goShpPujxaa"
      },
      "source": [
        "학습목표\n",
        "- dictionary, set에 대해 이해하기."
      ]
    },
    {
      "cell_type": "markdown",
      "metadata": {
        "id": "O-B1IC14yjic"
      },
      "source": [
        "dictionary\n",
        "- 키와 값을 갖는 데이터 구조\n",
        "- 키는 내부적으로 hash값으로 저장\n",
        "- 순서를 따지지 않음"
      ]
    },
    {
      "cell_type": "code",
      "metadata": {
        "colab": {
          "base_uri": "https://localhost:8080/"
        },
        "id": "mjPHeEFszNlm",
        "outputId": "047e4442-bfa9-4dc4-ffca-782daa5ca538"
      },
      "source": [
        "a = {'Korea': 'Seoul',\n",
        "     'Canada': 'Ottawa',\n",
        "     'USA': 'Washington D.C'}\n",
        "b = {0:1, 1:6, 7:9, 8:10}     \n",
        "print(a['Korea'])\n",
        "# print(a['japan'])\n",
        "print(b[0])"
      ],
      "execution_count": 6,
      "outputs": [
        {
          "output_type": "stream",
          "name": "stdout",
          "text": [
            "Seoul\n",
            "1\n"
          ]
        }
      ]
    },
    {
      "cell_type": "markdown",
      "metadata": {
        "id": "Nl8rUo780PgX"
      },
      "source": [
        "### **항목 추가 및 변경**\n",
        "- 기존에 키가 존재하면, 새로운 값으로 업데이트\n",
        "- 기존에 키가 존재하지 않으면 새로운 키 값으로 생성"
      ]
    },
    {
      "cell_type": "code",
      "metadata": {
        "colab": {
          "base_uri": "https://localhost:8080/"
        },
        "id": "ZQnrSqtu02AZ",
        "outputId": "36b457ba-1bc6-4b82-d1e8-3168d17333da"
      },
      "source": [
        "a['japan'] = 'Tokyo'\n",
        "a['japan'] = 'Osaka'\n",
        "a['China'] = 'Beijing'\n",
        "\n",
        "print(a)"
      ],
      "execution_count": 7,
      "outputs": [
        {
          "output_type": "stream",
          "name": "stdout",
          "text": [
            "{'Korea': 'Seoul', 'Canada': 'Ottawa', 'USA': 'Washington D.C', 'japan': 'Osaka', 'China': 'Beijing'}\n"
          ]
        }
      ]
    },
    {
      "cell_type": "markdown",
      "metadata": {
        "id": "WF5thf2B1eys"
      },
      "source": [
        "- update()\n",
        "  - 두 딕셔너리를 병합\n",
        "  - 겹치는 키가 있다면, 전달되는 값이 업데이트된다."
      ]
    },
    {
      "cell_type": "code",
      "metadata": {
        "colab": {
          "base_uri": "https://localhost:8080/"
        },
        "id": "U28azhTP1sBZ",
        "outputId": "bf283926-d6c8-4de3-be16-e60b961f709b"
      },
      "source": [
        "a = {'a':'apple','b':'bus','c':'car'}\n",
        "b = {'a':'ant','d':'dog','e':'egg'}\n",
        "\n",
        "a.update(b)\n",
        "print(a)"
      ],
      "execution_count": 9,
      "outputs": [
        {
          "output_type": "stream",
          "name": "stdout",
          "text": [
            "{'a': 'ant', 'b': 'bus', 'c': 'car', 'd': 'dog', 'e': 'egg'}\n"
          ]
        }
      ]
    },
    {
      "cell_type": "markdown",
      "metadata": {
        "id": "ktd-pgqv2Nqz"
      },
      "source": [
        "### **key삭제**\n",
        "- del 키워드\n",
        "- pop 함수 이용"
      ]
    },
    {
      "cell_type": "code",
      "metadata": {
        "colab": {
          "base_uri": "https://localhost:8080/"
        },
        "id": "xqEXG2Wg2am1",
        "outputId": "ab229180-30e8-479f-b9c5-0165013aca1b"
      },
      "source": [
        "a = {'a':1,'b':2,'c':3}\n",
        "print(a)\n",
        "\n",
        "d = a.pop('b')\n",
        "print(a)\n",
        "print(d)\n",
        "\n",
        "del a['c']\n",
        "print(a)"
      ],
      "execution_count": 14,
      "outputs": [
        {
          "output_type": "stream",
          "name": "stdout",
          "text": [
            "{'a': 1, 'b': 2, 'c': 3}\n",
            "{'a': 1, 'c': 3}\n",
            "2\n",
            "{'a': 1}\n"
          ]
        }
      ]
    },
    {
      "cell_type": "markdown",
      "metadata": {
        "id": "PL247cj73F1C"
      },
      "source": [
        "###clear()\n",
        "- 딕셔너리 값을 모두 초기화\n"
      ]
    },
    {
      "cell_type": "code",
      "metadata": {
        "colab": {
          "base_uri": "https://localhost:8080/"
        },
        "id": "qXo21En73S29",
        "outputId": "abadaa28-9ad3-45bd-8a87-c846dd4d24d9"
      },
      "source": [
        "a['add'] = 3\n",
        "print(a)\n",
        "a.clear()\n",
        "print(a)"
      ],
      "execution_count": 16,
      "outputs": [
        {
          "output_type": "stream",
          "name": "stdout",
          "text": [
            "{'add': 3}\n",
            "{}\n"
          ]
        }
      ]
    },
    {
      "cell_type": "markdown",
      "metadata": {
        "id": "Boc-bg6b9Dfd"
      },
      "source": [
        "##in\n",
        "- key 값 존재 확인"
      ]
    },
    {
      "cell_type": "code",
      "metadata": {
        "colab": {
          "base_uri": "https://localhost:8080/"
        },
        "id": "iLqQN59f9I0e",
        "outputId": "34a81122-f9fa-4358-ca2b-6e9963420e12"
      },
      "source": [
        "a = {'a': 1, 'b':2,'c':3}\n",
        "print(2 in a)\n",
        "print('a' in a)"
      ],
      "execution_count": 17,
      "outputs": [
        {
          "output_type": "stream",
          "name": "stdout",
          "text": [
            "False\n",
            "True\n"
          ]
        }
      ]
    },
    {
      "cell_type": "markdown",
      "metadata": {
        "id": "iCZViejx9kds"
      },
      "source": [
        "- dict[key]로 접근, 키가 없는 경우에는 에러\n",
        "- .get() 함수로 접근, 키가 없는 경우에도 프로그램 실행 -> None반환"
      ]
    },
    {
      "cell_type": "code",
      "metadata": {
        "colab": {
          "base_uri": "https://localhost:8080/"
        },
        "id": "Qz_1PwCW9WXM",
        "outputId": "204d3ef0-ba23-41d0-cc18-487245dbc85c"
      },
      "source": [
        "a = {'a':1,'b':2,'c':3}\n",
        "print(a.get('d'))"
      ],
      "execution_count": 18,
      "outputs": [
        {
          "output_type": "stream",
          "name": "stdout",
          "text": [
            "None\n"
          ]
        }
      ]
    },
    {
      "cell_type": "markdown",
      "metadata": {
        "id": "MpOWqzr3-gCL"
      },
      "source": [
        "#### **모든 keys, values 접근**\n",
        "- key() - 키만 반환\n",
        "- values() - 값만 반환\n",
        "- items() - 키, 값의 듀플을 반환\n"
      ]
    },
    {
      "cell_type": "code",
      "metadata": {
        "colab": {
          "base_uri": "https://localhost:8080/"
        },
        "id": "T6eqPcpn_PHL",
        "outputId": "b03bab1f-3c51-43ce-805c-fcd1d86f8557"
      },
      "source": [
        "a = {'a':1,'b':2,'c':3}\n",
        "print(a)\n",
        "print(a.keys())\n",
        "print(a.values())\n",
        "print(a.items())"
      ],
      "execution_count": 20,
      "outputs": [
        {
          "output_type": "stream",
          "name": "stdout",
          "text": [
            "{'a': 1, 'b': 2, 'c': 3}\n",
            "dict_keys(['a', 'b', 'c'])\n",
            "dict_values([1, 2, 3])\n",
            "dict_items([('a', 1), ('b', 2), ('c', 3)])\n"
          ]
        }
      ]
    },
    {
      "cell_type": "markdown",
      "metadata": {
        "id": "sQEiA1vEAEu_"
      },
      "source": [
        "### **Set**\n",
        "- dictionary에서key만 활용한 데이터 구조{}\n",
        "- 중복이 허용되지 않는 구조"
      ]
    },
    {
      "cell_type": "code",
      "metadata": {
        "colab": {
          "base_uri": "https://localhost:8080/"
        },
        "id": "DSyLCTgmANr0",
        "outputId": "ad9ee291-d83d-4b55-bee7-f4f1759008f0"
      },
      "source": [
        "a = {1,1,1,2,5,2,2,2,6,2}\n",
        "print(a)"
      ],
      "execution_count": 21,
      "outputs": [
        {
          "output_type": "stream",
          "name": "stdout",
          "text": [
            "{1, 2, 5, 6}\n"
          ]
        }
      ]
    },
    {
      "cell_type": "code",
      "metadata": {
        "colab": {
          "base_uri": "https://localhost:8080/"
        },
        "id": "lZIMHViKArYs",
        "outputId": "4efa80a9-76ee-449f-9215-7fbad65ce354"
      },
      "source": [
        "a = [1,2,3,5,6,7,3,3,4,6,7,3,3,2,]\n",
        "print(a)\n",
        "\n",
        "b = set(a)\n",
        "print(b)"
      ],
      "execution_count": 22,
      "outputs": [
        {
          "output_type": "stream",
          "name": "stdout",
          "text": [
            "[1, 2, 3, 5, 6, 7, 3, 3, 4, 6, 7, 3, 3, 2]\n",
            "{1, 2, 3, 4, 5, 6, 7}\n"
          ]
        }
      ]
    },
    {
      "cell_type": "code",
      "metadata": {
        "colab": {
          "base_uri": "https://localhost:8080/"
        },
        "id": "fzYWO8DcBlc8",
        "outputId": "b6fa47c6-e4aa-4ce8-e2cc-2562e33bd12f"
      },
      "source": [
        "a = {1,2,3}\n",
        "b = {2,3,4}\n",
        "\n",
        "print(a.union(b)) #합집합\n",
        "print(a.intersection(b)) #교집합\n",
        "print(a.difference(b)) #차집합"
      ],
      "execution_count": 26,
      "outputs": [
        {
          "output_type": "stream",
          "name": "stdout",
          "text": [
            "{1, 2, 3, 4}\n",
            "{2, 3}\n",
            "{1}\n"
          ]
        }
      ]
    },
    {
      "cell_type": "code",
      "metadata": {
        "id": "CyXNw20dBtuR"
      },
      "source": [
        ""
      ],
      "execution_count": null,
      "outputs": []
    }
  ]
}